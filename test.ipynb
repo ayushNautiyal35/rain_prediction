{
 "cells": [
  {
   "cell_type": "code",
   "execution_count": 1,
   "id": "f46488a5-421a-4c4c-9a7d-37827b82af0f",
   "metadata": {},
   "outputs": [],
   "source": [
    "import pandas as pd\n",
    "import joblib"
   ]
  },
  {
   "cell_type": "code",
   "execution_count": 2,
   "id": "a30fd6ae-a913-4690-8366-d7e7caaddfac",
   "metadata": {},
   "outputs": [],
   "source": [
    "scaler=joblib.load('scaler.joblib')"
   ]
  },
  {
   "cell_type": "code",
   "execution_count": 3,
   "id": "0ba07443-1b73-41d8-8097-7432a843ba33",
   "metadata": {},
   "outputs": [],
   "source": [
    "test=pd.read_csv('test.csv')"
   ]
  },
  {
   "cell_type": "code",
   "execution_count": 4,
   "id": "c9e131d3-0fdd-4e30-9aa0-9e2852c44ce7",
   "metadata": {},
   "outputs": [
    {
     "data": {
      "text/html": [
       "<div>\n",
       "<style scoped>\n",
       "    .dataframe tbody tr th:only-of-type {\n",
       "        vertical-align: middle;\n",
       "    }\n",
       "\n",
       "    .dataframe tbody tr th {\n",
       "        vertical-align: top;\n",
       "    }\n",
       "\n",
       "    .dataframe thead th {\n",
       "        text-align: right;\n",
       "    }\n",
       "</style>\n",
       "<table border=\"1\" class=\"dataframe\">\n",
       "  <thead>\n",
       "    <tr style=\"text-align: right;\">\n",
       "      <th></th>\n",
       "      <th>id</th>\n",
       "      <th>day</th>\n",
       "      <th>pressure</th>\n",
       "      <th>maxtemp</th>\n",
       "      <th>temparature</th>\n",
       "      <th>mintemp</th>\n",
       "      <th>dewpoint</th>\n",
       "      <th>humidity</th>\n",
       "      <th>cloud</th>\n",
       "      <th>sunshine</th>\n",
       "      <th>winddirection</th>\n",
       "      <th>windspeed</th>\n",
       "    </tr>\n",
       "  </thead>\n",
       "  <tbody>\n",
       "    <tr>\n",
       "      <th>0</th>\n",
       "      <td>2190</td>\n",
       "      <td>1</td>\n",
       "      <td>1019.5</td>\n",
       "      <td>17.5</td>\n",
       "      <td>15.8</td>\n",
       "      <td>12.7</td>\n",
       "      <td>14.9</td>\n",
       "      <td>96.0</td>\n",
       "      <td>99.0</td>\n",
       "      <td>0.0</td>\n",
       "      <td>50.0</td>\n",
       "      <td>24.3</td>\n",
       "    </tr>\n",
       "    <tr>\n",
       "      <th>1</th>\n",
       "      <td>2191</td>\n",
       "      <td>2</td>\n",
       "      <td>1016.5</td>\n",
       "      <td>17.5</td>\n",
       "      <td>16.5</td>\n",
       "      <td>15.8</td>\n",
       "      <td>15.1</td>\n",
       "      <td>97.0</td>\n",
       "      <td>99.0</td>\n",
       "      <td>0.0</td>\n",
       "      <td>50.0</td>\n",
       "      <td>35.3</td>\n",
       "    </tr>\n",
       "    <tr>\n",
       "      <th>2</th>\n",
       "      <td>2192</td>\n",
       "      <td>3</td>\n",
       "      <td>1023.9</td>\n",
       "      <td>11.2</td>\n",
       "      <td>10.4</td>\n",
       "      <td>9.4</td>\n",
       "      <td>8.9</td>\n",
       "      <td>86.0</td>\n",
       "      <td>96.0</td>\n",
       "      <td>0.0</td>\n",
       "      <td>40.0</td>\n",
       "      <td>16.9</td>\n",
       "    </tr>\n",
       "    <tr>\n",
       "      <th>3</th>\n",
       "      <td>2193</td>\n",
       "      <td>4</td>\n",
       "      <td>1022.9</td>\n",
       "      <td>20.6</td>\n",
       "      <td>17.3</td>\n",
       "      <td>15.2</td>\n",
       "      <td>9.5</td>\n",
       "      <td>75.0</td>\n",
       "      <td>45.0</td>\n",
       "      <td>7.1</td>\n",
       "      <td>20.0</td>\n",
       "      <td>50.6</td>\n",
       "    </tr>\n",
       "    <tr>\n",
       "      <th>4</th>\n",
       "      <td>2194</td>\n",
       "      <td>5</td>\n",
       "      <td>1022.2</td>\n",
       "      <td>16.1</td>\n",
       "      <td>13.8</td>\n",
       "      <td>6.4</td>\n",
       "      <td>4.3</td>\n",
       "      <td>68.0</td>\n",
       "      <td>49.0</td>\n",
       "      <td>9.2</td>\n",
       "      <td>20.0</td>\n",
       "      <td>19.4</td>\n",
       "    </tr>\n",
       "  </tbody>\n",
       "</table>\n",
       "</div>"
      ],
      "text/plain": [
       "     id  day  pressure  maxtemp  temparature  mintemp  dewpoint  humidity  \\\n",
       "0  2190    1    1019.5     17.5         15.8     12.7      14.9      96.0   \n",
       "1  2191    2    1016.5     17.5         16.5     15.8      15.1      97.0   \n",
       "2  2192    3    1023.9     11.2         10.4      9.4       8.9      86.0   \n",
       "3  2193    4    1022.9     20.6         17.3     15.2       9.5      75.0   \n",
       "4  2194    5    1022.2     16.1         13.8      6.4       4.3      68.0   \n",
       "\n",
       "   cloud  sunshine  winddirection  windspeed  \n",
       "0   99.0       0.0           50.0       24.3  \n",
       "1   99.0       0.0           50.0       35.3  \n",
       "2   96.0       0.0           40.0       16.9  \n",
       "3   45.0       7.1           20.0       50.6  \n",
       "4   49.0       9.2           20.0       19.4  "
      ]
     },
     "execution_count": 4,
     "metadata": {},
     "output_type": "execute_result"
    }
   ],
   "source": [
    "test.head()"
   ]
  },
  {
   "cell_type": "code",
   "execution_count": 5,
   "id": "63a3d2e0-b02e-414a-a72b-f05cf617a921",
   "metadata": {},
   "outputs": [],
   "source": [
    "df=test.drop('id',axis=1)"
   ]
  },
  {
   "cell_type": "code",
   "execution_count": 6,
   "id": "2a1f4f63-b85d-4925-b3ae-8e5f4dcc7444",
   "metadata": {},
   "outputs": [
    {
     "data": {
      "text/plain": [
       "day              0\n",
       "pressure         0\n",
       "maxtemp          0\n",
       "temparature      0\n",
       "mintemp          0\n",
       "dewpoint         0\n",
       "humidity         0\n",
       "cloud            0\n",
       "sunshine         0\n",
       "winddirection    1\n",
       "windspeed        0\n",
       "dtype: int64"
      ]
     },
     "execution_count": 6,
     "metadata": {},
     "output_type": "execute_result"
    }
   ],
   "source": [
    "df.isnull().sum()"
   ]
  },
  {
   "cell_type": "code",
   "execution_count": 7,
   "id": "bd99893f-4607-484c-9a1f-6787249d90a3",
   "metadata": {},
   "outputs": [],
   "source": [
    "df = pd.DataFrame(scaler.transform(df), columns=df.columns)"
   ]
  },
  {
   "cell_type": "code",
   "execution_count": 8,
   "id": "1aa6fafa-873d-45f8-8cd1-6c8b4d82c2ca",
   "metadata": {},
   "outputs": [],
   "source": [
    "#null values is found but we can use median value of the windirection in train set which is 0.206897\n",
    "df['winddirection']=df['winddirection'].fillna(0.206897)"
   ]
  },
  {
   "cell_type": "code",
   "execution_count": 19,
   "id": "946d886d-c7f8-4761-994c-68ffd0b4d8fb",
   "metadata": {},
   "outputs": [],
   "source": [
    "#logstic regression\n",
    "lr=joblib.load('logistic.joblib')\n",
    "test['rainfall']=lr.predict(df)"
   ]
  },
  {
   "cell_type": "code",
   "execution_count": 30,
   "id": "8bdfd821-337b-4107-866a-9bc1bb7199f3",
   "metadata": {},
   "outputs": [],
   "source": [
    "#SGD\n",
    "sgd=joblib.load('sgd.joblib')\n",
    "test['rainfall']=sgd.predict(df)"
   ]
  },
  {
   "cell_type": "code",
   "execution_count": 9,
   "id": "faf30156-f766-449e-b7bb-cb90031b8e04",
   "metadata": {},
   "outputs": [],
   "source": [
    "#naive bayes\n",
    "gauss=joblib.load('gauss.joblib')\n",
    "test['rainfall']=gauss.predict(df)"
   ]
  },
  {
   "cell_type": "code",
   "execution_count": 19,
   "id": "45dd6f3c-c891-4aca-aebe-d4d36d0f99eb",
   "metadata": {},
   "outputs": [],
   "source": [
    "#linear SVC\n",
    "linear_svc=joblib.load('linear_svc.joblib')\n",
    "test['rainfall']=linear_svc.predict(df)"
   ]
  },
  {
   "cell_type": "code",
   "execution_count": 29,
   "id": "31e7064e-a904-4ea5-ab4b-414b86cd7262",
   "metadata": {},
   "outputs": [],
   "source": [
    "svc=joblib.load('svc.joblib')\n",
    "test['rainfall']=svc.predict(df)"
   ]
  },
  {
   "cell_type": "code",
   "execution_count": 39,
   "id": "fd0c9869-a040-47d9-a7c3-1a30bf592e3d",
   "metadata": {},
   "outputs": [],
   "source": [
    "ada=joblib.load('ada.joblib')\n",
    "test['rainfall']=ada.predict(df)"
   ]
  },
  {
   "cell_type": "code",
   "execution_count": 9,
   "id": "0ffeee8b-cef4-47f6-99d0-ccf1e528b9c2",
   "metadata": {},
   "outputs": [],
   "source": [
    "grad=joblib.load('grad.joblib')\n",
    "test['rainfall']=grad.predict(df)"
   ]
  },
  {
   "cell_type": "code",
   "execution_count": 19,
   "id": "4f657709-a6b7-421e-b47c-851313a4a0b7",
   "metadata": {},
   "outputs": [],
   "source": [
    "rfc=joblib.load('rfc.joblib')\n",
    "test['rainfall']=rfc.predict(df)"
   ]
  },
  {
   "cell_type": "code",
   "execution_count": 30,
   "id": "950e9d9a-3a02-41be-98c8-6777ba73528f",
   "metadata": {},
   "outputs": [],
   "source": [
    "ex=joblib.load('extra_tree.joblib')\n",
    "test['rainfall']=ex.predict(df)"
   ]
  },
  {
   "cell_type": "code",
   "execution_count": 40,
   "id": "3fbec361-2518-42b6-ab25-9248724f9c7a",
   "metadata": {},
   "outputs": [],
   "source": [
    "hist=joblib.load('hist.joblib')\n",
    "test['rainfall']=hist.predict(df)"
   ]
  },
  {
   "cell_type": "code",
   "execution_count": 9,
   "id": "c1d19d99-37a4-40d9-bbb9-46bb7223fca9",
   "metadata": {},
   "outputs": [],
   "source": [
    "xgb=joblib.load('xgb.joblib')\n",
    "test['rainfall']=xgb.predict(df)"
   ]
  },
  {
   "cell_type": "code",
   "execution_count": 9,
   "id": "1b223a0a-193b-43d1-bcbf-08205fc46de2",
   "metadata": {},
   "outputs": [],
   "source": [
    "cat=joblib.load('cat.joblib')\n",
    "test['rainfall']=cat.predict(df)"
   ]
  },
  {
   "cell_type": "code",
   "execution_count": 11,
   "id": "fab5989d-9e8b-4ac1-8552-29fcd72325fe",
   "metadata": {},
   "outputs": [],
   "source": [
    "light=joblib.load('light.joblib')\n",
    "test['rainfall']=light.predict(df)"
   ]
  },
  {
   "cell_type": "code",
   "execution_count": 10,
   "id": "4cee0024-7c3e-4750-8875-4a5e92baf112",
   "metadata": {},
   "outputs": [],
   "source": [
    "voting=joblib.load('voting.joblib')\n",
    "test['rainfall']=voting.predict(df)"
   ]
  },
  {
   "cell_type": "code",
   "execution_count": 11,
   "id": "26a1e8bf-ebc3-4c2e-af8b-b9ca7f24a7cd",
   "metadata": {},
   "outputs": [],
   "source": [
    "#for saving res.csv\n",
    "res=pd.DataFrame({\n",
    "    'id':test['id'],\n",
    "    'rainfall':test['rainfall']\n",
    "})\n",
    "res.to_csv('res.csv',index=False)"
   ]
  }
 ],
 "metadata": {
  "kernelspec": {
   "display_name": "Python 3 (ipykernel)",
   "language": "python",
   "name": "python3"
  },
  "language_info": {
   "codemirror_mode": {
    "name": "ipython",
    "version": 3
   },
   "file_extension": ".py",
   "mimetype": "text/x-python",
   "name": "python",
   "nbconvert_exporter": "python",
   "pygments_lexer": "ipython3",
   "version": "3.11.5"
  }
 },
 "nbformat": 4,
 "nbformat_minor": 5
}
